{
 "cells": [
  {
   "cell_type": "code",
   "execution_count": 10,
   "metadata": {},
   "outputs": [],
   "source": [
    "import pandas as pd\n",
    "import numpy as np\n",
    "import math\n",
    "from scipy import stats\n",
    "from statistics import mode"
   ]
  },
  {
   "cell_type": "code",
   "execution_count": 11,
   "metadata": {},
   "outputs": [],
   "source": [
    "df=pd.read_csv(\"C:\\\\Users\\\\sneha\\\\OneDrive\\\\Documents\\\\SEM_3_STUFF\\\\IDS_project\\\\zomato-bangalore-restaurants\\\\zomato.csv\")"
   ]
  },
  {
   "cell_type": "markdown",
   "metadata": {},
   "source": [
    "CLEANING"
   ]
  },
  {
   "cell_type": "code",
   "execution_count": 12,
   "metadata": {},
   "outputs": [],
   "source": [
    "#'name', 'address'\n",
    "\n",
    "#dictionary with name:[address1,address2,---]\n",
    "d=dict()\n",
    "for i,name in df[\"name\"].iteritems():       # if rest name not in dict, add it(as a key), with addr(as value) in list\n",
    "    if name not in d:\n",
    "        d[name]=[]\n",
    "        d[name].append(df[\"address\"].loc[i])\n",
    "    else:                                 # name already there\n",
    "        if df[\"address\"].loc[i] not in d[name]:         #same name, diff addr (diff branch of same rest)\n",
    "            d[name].append(df[\"address\"].loc[i])        \n",
    "        else:                                          #duplicate. same name, same addr. drop\n",
    "            df.drop(i,axis=0,inplace=True)"
   ]
  },
  {
   "cell_type": "code",
   "execution_count": 13,
   "metadata": {},
   "outputs": [],
   "source": [
    "# 'online_order' and 'book_table' already clean"
   ]
  },
  {
   "cell_type": "code",
   "execution_count": 14,
   "metadata": {},
   "outputs": [],
   "source": [
    "#'rate' aka 'ratings'\n",
    "\n",
    "df.rename(columns={'rate':'ratings'},inplace=True)\n",
    "\n",
    "for i,j in df['ratings'].iteritems():\n",
    "        \n",
    "    #removing \"/5\" and converting to float\n",
    "    if str(j).find(\"/\")!=-1:\n",
    "        k=j.split(\"/\")\n",
    "        df['ratings'].loc[i]=float(k[0])\n",
    "    #dropping other values\n",
    "    elif j==\"-\" or j==\"NEW\" or math.isnan(j):\n",
    "        df.drop(i,axis=0,inplace=True)"
   ]
  },
  {
   "cell_type": "code",
   "execution_count": 15,
   "metadata": {},
   "outputs": [],
   "source": [
    "#'votes'\n",
    "\n",
    "#replacing 0 values with median\n",
    "for i,j in df['votes'].iteritems():\n",
    "    if j==0:\n",
    "        df['votes'].loc[i]=int(np.median(df.votes))"
   ]
  },
  {
   "cell_type": "code",
   "execution_count": 16,
   "metadata": {},
   "outputs": [],
   "source": [
    "#'location' aka 'city_specifics'\n",
    "\n",
    "df.rename(columns={'location':'city_specifics'},inplace=True)\n",
    "\n",
    "#city_specifics already cleaned"
   ]
  },
  {
   "cell_type": "code",
   "execution_count": 17,
   "metadata": {},
   "outputs": [],
   "source": [
    "#'rest_type'\n",
    "\n",
    "#list with non nan values\n",
    "non_nan_rest_type=[]\n",
    "for i,j in df['rest_type'].iteritems():\n",
    "    if type(j)==str:\n",
    "        r_arr=j.split(\",\")\n",
    "        for item in r_arr:\n",
    "            non_nan_rest_type.append(item.lstrip())\n",
    "\n",
    "#replace nan values with mode\n",
    "for i,j in df['rest_type'].iteritems():\n",
    "    if type(j)!=str:\n",
    "        df['rest_type'].loc[i]=mode(non_nan_rest_type)"
   ]
  },
  {
   "cell_type": "code",
   "execution_count": 18,
   "metadata": {},
   "outputs": [],
   "source": [
    "#dish_liked"
   ]
  },
  {
   "cell_type": "code",
   "execution_count": 19,
   "metadata": {},
   "outputs": [],
   "source": [
    "#'cuisines'\n",
    "\n",
    "#to find mode, create list of cuisines\n",
    "cuisine_list=[]\n",
    "for i,j in df['cuisines'].iteritems():\n",
    "    if type(j)==str:\n",
    "        c_arr=j.split(\",\")\n",
    "        for item in c_arr:\n",
    "            cuisine_list.append(item.lstrip())\n",
    "            \n",
    "#repl missing val with mode\n",
    "for i,j in df['cuisines'].iteritems():\n",
    "    if type(j)!=str:\n",
    "        df['cuisines'].loc[i]=mode(cuisine_list)"
   ]
  },
  {
   "cell_type": "code",
   "execution_count": 21,
   "metadata": {},
   "outputs": [],
   "source": [
    "#'approx_cost(for two people)' aka 'approx_cost'\n",
    "\n",
    "df.rename(columns={'approx_cost(for two people)':'approx_cost'},inplace=True)\n",
    "\n",
    "#converting all non nan values to int\n",
    "for i,j in df['approx_cost'].iteritems():\n",
    "    if type(j)==str:\n",
    "        if j.find(\",\")!=-1:\n",
    "            l=int(j.replace(\",\",\"\"))\n",
    "            df['approx_cost'].loc[i]=l\n",
    "        else:\n",
    "            df['approx_cost'].loc[i]=int(j)\n",
    "   # elif math.isnan(j):\n",
    "    #    df['approx_cost'].loc[i]=int(np.mean(lac))\n",
    "    \n",
    "#list of all non nan costs\n",
    "lac=[item for item in list(df.approx_cost) if not(math.isnan(float(item)))]\n",
    "df.approx_cost = df.approx_cost.fillna(np.mean(lac))"
   ]
  },
  {
   "cell_type": "code",
   "execution_count": 22,
   "metadata": {},
   "outputs": [],
   "source": [
    "#'reviews_list'\n",
    "\n",
    "#'reviews_list' already clean"
   ]
  },
  {
   "cell_type": "code",
   "execution_count": 23,
   "metadata": {},
   "outputs": [],
   "source": [
    "#menu_item"
   ]
  },
  {
   "cell_type": "code",
   "execution_count": 24,
   "metadata": {},
   "outputs": [],
   "source": [
    "#'listed_in(type)''\n",
    "df.rename(columns={'listed_in(type)':'meal_type'},inplace=True)\n",
    "#'listed_in(type)' aka 'meal_type' already clean"
   ]
  },
  {
   "cell_type": "code",
   "execution_count": 25,
   "metadata": {},
   "outputs": [],
   "source": [
    "#listed_in(city)\n",
    "df.rename(columns={'listed_in(city)':'city'},inplace=True)\n",
    "#'listed_in(city)' aka 'city' already clean "
   ]
  },
  {
   "cell_type": "code",
   "execution_count": 26,
   "metadata": {},
   "outputs": [],
   "source": [
    "df.to_csv(\"C:\\\\Users\\\\sneha\\\\OneDrive\\\\Documents\\\\SEM_3_STUFF\\\\IDS_project\\\\final_project_stuff\\\\cleaned_zomato_final.csv\",columns=[\"name\",\"address\",\"online_order\",\"book_table\",\"ratings\",\"votes\",\"city_specifics\",\"rest_type\",\"dish_liked\",\"cuisines\",\"approx_cost\",\"reviews_list\",\"menu_item\",\"meal_type\",\"city\"])"
   ]
  },
  {
   "cell_type": "markdown",
   "metadata": {},
   "source": [
    "*******************************************"
   ]
  }
 ],
 "metadata": {
  "kernelspec": {
   "display_name": "Python 3",
   "language": "python",
   "name": "python3"
  },
  "language_info": {
   "codemirror_mode": {
    "name": "ipython",
    "version": 3
   },
   "file_extension": ".py",
   "mimetype": "text/x-python",
   "name": "python",
   "nbconvert_exporter": "python",
   "pygments_lexer": "ipython3",
   "version": "3.7.3"
  }
 },
 "nbformat": 4,
 "nbformat_minor": 2
}
